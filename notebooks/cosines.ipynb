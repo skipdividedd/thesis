{
 "cells": [
  {
   "cell_type": "code",
   "execution_count": 1,
   "metadata": {},
   "outputs": [],
   "source": [
    "import torch\n",
    "import numpy as np\n",
    "\n",
    "from sklearn.metrics.pairwise import cosine_similarity, euclidean_distances\n",
    "\n",
    "from utils import load_data, safe_indexing\n",
    "from utils import path_config as config"
   ]
  },
  {
   "cell_type": "code",
   "execution_count": 2,
   "metadata": {},
   "outputs": [],
   "source": [
    "def analyze_embedding_magnitudes(embeddings):\n",
    "    magnitudes = np.linalg.norm(embeddings, axis=1) #  magnitudes (norms) of the embedding vectors\n",
    "    #  statistics of the magnitudes\n",
    "    mean_magnitude = np.mean(magnitudes)\n",
    "    std_magnitude = np.std(magnitudes)\n",
    "    min_magnitude = np.min(magnitudes)\n",
    "    max_magnitude = np.max(magnitudes)\n",
    "    print(f\"Number of embeddings: {embeddings.shape[0]}\")\n",
    "    print(f\"Embedding dimensionality: {embeddings.shape[1]}\")\n",
    "    print(f\"Mean magnitude: {mean_magnitude:.4f}\")\n",
    "    print(f\"Standard deviation of magnitudes: {std_magnitude:.4f}\")\n",
    "    print(f\"Minimum magnitude: {min_magnitude:.4f}\")\n",
    "    print(f\"Maximum magnitude: {max_magnitude:.4f}\")"
   ]
  },
  {
   "cell_type": "code",
   "execution_count": 2,
   "metadata": {},
   "outputs": [],
   "source": [
    "def standardize(embeddings):\n",
    "    mean = np.mean(embeddings, axis=0)\n",
    "    std_dev = np.std(embeddings, axis=0)\n",
    "    standardized_embeddings = (embeddings - mean) / std_dev\n",
    "    return standardized_embeddings\n",
    "\n",
    "def compute_metrics(embeddings, do_standardize=False, sample_size=20000):\n",
    "    if len(embeddings) > sample_size: # random sample 20 000 \n",
    "        sampled_embeddings = embeddings[np.random.choice(embeddings.shape[0], sample_size, replace=False)]\n",
    "    else:\n",
    "        sampled_embeddings = embeddings\n",
    "\n",
    "    if do_standardize is True: # subtract the mean vector and divide each dimension by standard deviation\n",
    "        sampled_embeddings = standardize(sampled_embeddings)\n",
    "        \n",
    "    # pairwise cosine similarities and euclidean distances\n",
    "    cos_sim_matrix = cosine_similarity(sampled_embeddings)\n",
    "    euclidean_dist_matrix = euclidean_distances(sampled_embeddings)\n",
    "    \n",
    "    avg_cosine_similarity = np.mean(cos_sim_matrix[np.triu_indices_from(cos_sim_matrix, k=1)])\n",
    "    avg_euclidean_distance = np.mean(euclidean_dist_matrix[np.triu_indices_from(euclidean_dist_matrix, k=1)])\n",
    "    return avg_cosine_similarity, avg_euclidean_distance\n",
    "\n",
    "def compute_all_metrics(model, do_standardize):\n",
    "    data = torch.load(config[model])\n",
    "    contextualized_word_embeddings, labels = np.array(data['features']), np.array([safe_indexing(y) for y in data['labels']])\n",
    "    contextualized_sentence_embeddings = np.array(data['mean_embeddings'])\n",
    "    # filter\n",
    "    embeddings_with_label_1 = contextualized_word_embeddings[labels == 1] # terms\n",
    "    embeddings_with_label_0 = contextualized_word_embeddings[labels == 0] # not terms\n",
    "\n",
    "    avg_cos_sim_label_1, avg_euclid_dist_label_1 = compute_metrics(embeddings_with_label_1, do_standardize=do_standardize) # terms\n",
    "    avg_cos_sim_label_0, avg_euclid_dist_label_0 = compute_metrics(embeddings_with_label_0, do_standardize=do_standardize) # not terms\n",
    "    avg_cos_sim_all, avg_euclid_dist_all = compute_metrics(contextualized_word_embeddings, do_standardize=do_standardize) # all words\n",
    "    avg_cos_sim_sent, avg_euclid_dist_sent = compute_metrics(contextualized_sentence_embeddings, do_standardize=do_standardize) # for sentence representations\n",
    "    print(\"Model\", model)\n",
    "    print(\"Avg. Cosine Similarity for embeddings (terms):\", round(avg_cos_sim_label_1, 4))\n",
    "    print(\"Avg. Cosine Similarity for embeddings (not terms):\", round(avg_cos_sim_label_0, 4))\n",
    "    print(\"Avg. Cosine Similarity for all embeddings:\", round(avg_cos_sim_all, 4))\n",
    "    print(\"Avg. Cosine Similarity for sentences:\", round(avg_cos_sim_sent, 4))\n",
    "    print(\"Avg. Euclidean Distance for embeddings (terms):\", round(avg_euclid_dist_label_1, 4))\n",
    "    print(\"Avg. Euclidean Distance for embeddings (not terms):\", round(avg_euclid_dist_label_0, 4))\n",
    "    print(\"Avg. Euclidean Distance for all embeddings:\", round(avg_euclid_dist_all, 4))\n",
    "    print(\"Avg. Euclidean Distance for sentences:\", round(avg_euclid_dist_sent, 4))"
   ]
  },
  {
   "cell_type": "code",
   "execution_count": 3,
   "metadata": {},
   "outputs": [
    {
     "name": "stdout",
     "output_type": "stream",
     "text": [
      "Model en_multi_bert\n",
      "Avg. Cosine Similarity for embeddings (terms): 0.2088\n",
      "Avg. Cosine Similarity for embeddings (not terms): 0.2797\n",
      "Avg. Cosine Similarity for all embeddings: 0.236\n",
      "Avg. Cosine Similarity for sentences: 0.8261\n",
      "Avg. Euclidean Distance for embeddings (terms): 18.436\n",
      "Avg. Euclidean Distance for embeddings (not terms): 17.6143\n",
      "Avg. Euclidean Distance for all embeddings: 18.1382\n",
      "Avg. Euclidean Distance for sentences: 4.4547\n"
     ]
    }
   ],
   "source": [
    "compute_all_metrics('en_multi_bert', do_standardize=False)"
   ]
  },
  {
   "cell_type": "code",
   "execution_count": 4,
   "metadata": {},
   "outputs": [
    {
     "name": "stdout",
     "output_type": "stream",
     "text": [
      "Model en_multi_bert\n",
      "Avg. Cosine Similarity for embeddings (terms): 0.0003\n",
      "Avg. Cosine Similarity for embeddings (not terms): 0.0002\n",
      "Avg. Cosine Similarity for all embeddings: 0.0002\n",
      "Avg. Cosine Similarity for sentences: 0.0005\n",
      "Avg. Euclidean Distance for embeddings (terms): 38.972\n",
      "Avg. Euclidean Distance for embeddings (not terms): 38.9538\n",
      "Avg. Euclidean Distance for all embeddings: 38.9795\n",
      "Avg. Euclidean Distance for sentences: 38.6549\n"
     ]
    }
   ],
   "source": [
    "compute_all_metrics('en_multi_bert', do_standardize=True)"
   ]
  },
  {
   "cell_type": "code",
   "execution_count": 5,
   "metadata": {},
   "outputs": [
    {
     "name": "stdout",
     "output_type": "stream",
     "text": [
      "Model ru_multi_bert\n",
      "Avg. Cosine Similarity for embeddings (terms): 0.2525\n",
      "Avg. Cosine Similarity for embeddings (not terms): 0.2473\n",
      "Avg. Cosine Similarity for all embeddings: 0.2445\n",
      "Avg. Cosine Similarity for sentences: 0.8531\n",
      "Avg. Euclidean Distance for embeddings (terms): 18.5883\n",
      "Avg. Euclidean Distance for embeddings (not terms): 18.5545\n",
      "Avg. Euclidean Distance for all embeddings: 18.6178\n",
      "Avg. Euclidean Distance for sentences: 4.3725\n"
     ]
    }
   ],
   "source": [
    "compute_all_metrics('ru_multi_bert', do_standardize=False)"
   ]
  },
  {
   "cell_type": "code",
   "execution_count": 6,
   "metadata": {},
   "outputs": [
    {
     "name": "stdout",
     "output_type": "stream",
     "text": [
      "Model ru_multi_bert\n",
      "Avg. Cosine Similarity for embeddings (terms): 0.0002\n",
      "Avg. Cosine Similarity for embeddings (not terms): 1e-04\n",
      "Avg. Cosine Similarity for all embeddings: 1e-04\n",
      "Avg. Cosine Similarity for sentences: 0.0006\n",
      "Avg. Euclidean Distance for embeddings (terms): 39.0229\n",
      "Avg. Euclidean Distance for embeddings (not terms): 39.0292\n",
      "Avg. Euclidean Distance for all embeddings: 39.036\n",
      "Avg. Euclidean Distance for sentences: 38.7069\n"
     ]
    }
   ],
   "source": [
    "compute_all_metrics('ru_multi_bert', do_standardize=True)"
   ]
  },
  {
   "cell_type": "code",
   "execution_count": 7,
   "metadata": {},
   "outputs": [
    {
     "name": "stdout",
     "output_type": "stream",
     "text": [
      "Model en_bert\n",
      "Avg. Cosine Similarity for embeddings (terms): 0.2486\n",
      "Avg. Cosine Similarity for embeddings (not terms): 0.2988\n",
      "Avg. Cosine Similarity for all embeddings: 0.2646\n",
      "Avg. Cosine Similarity for sentences: 0.7804\n",
      "Avg. Euclidean Distance for embeddings (terms): 18.7823\n",
      "Avg. Euclidean Distance for embeddings (not terms): 17.6589\n",
      "Avg. Euclidean Distance for all embeddings: 18.2916\n",
      "Avg. Euclidean Distance for sentences: 5.6214\n"
     ]
    }
   ],
   "source": [
    "compute_all_metrics('en_bert', do_standardize=False)"
   ]
  },
  {
   "cell_type": "code",
   "execution_count": 5,
   "metadata": {},
   "outputs": [
    {
     "name": "stdout",
     "output_type": "stream",
     "text": [
      "Number of embeddings: 433151\n",
      "Embedding dimensionality: 768\n",
      "Mean magnitude: 15.0534\n",
      "Standard deviation of magnitudes: 1.2632\n",
      "Minimum magnitude: 9.2779\n",
      "Maximum magnitude: 17.6945\n"
     ]
    }
   ],
   "source": [
    "analyze_embedding_magnitudes(torch.load(config['en_bert'])['features'])"
   ]
  },
  {
   "cell_type": "code",
   "execution_count": 8,
   "metadata": {},
   "outputs": [
    {
     "name": "stdout",
     "output_type": "stream",
     "text": [
      "Model en_bert\n",
      "Avg. Cosine Similarity for embeddings (terms): 1e-04\n",
      "Avg. Cosine Similarity for embeddings (not terms): 0.0002\n",
      "Avg. Cosine Similarity for all embeddings: 1e-04\n",
      "Avg. Cosine Similarity for sentences: 0.0011\n",
      "Avg. Euclidean Distance for embeddings (terms): 39.0514\n",
      "Avg. Euclidean Distance for embeddings (not terms): 38.9959\n",
      "Avg. Euclidean Distance for all embeddings: 39.0251\n",
      "Avg. Euclidean Distance for sentences: 38.4402\n"
     ]
    }
   ],
   "source": [
    "compute_all_metrics('en_bert', do_standardize=True)"
   ]
  },
  {
   "cell_type": "code",
   "execution_count": 9,
   "metadata": {},
   "outputs": [
    {
     "name": "stdout",
     "output_type": "stream",
     "text": [
      "Model ru_bert\n",
      "Avg. Cosine Similarity for embeddings (terms): 0.215\n",
      "Avg. Cosine Similarity for embeddings (not terms): 0.2125\n",
      "Avg. Cosine Similarity for all embeddings: 0.21\n",
      "Avg. Cosine Similarity for sentences: 0.5405\n",
      "Avg. Euclidean Distance for embeddings (terms): 22.1106\n",
      "Avg. Euclidean Distance for embeddings (not terms): 22.499\n",
      "Avg. Euclidean Distance for all embeddings: 22.4349\n",
      "Avg. Euclidean Distance for sentences: 10.8029\n"
     ]
    }
   ],
   "source": [
    "compute_all_metrics('ru_bert', do_standardize=False)"
   ]
  },
  {
   "cell_type": "code",
   "execution_count": 10,
   "metadata": {},
   "outputs": [
    {
     "name": "stdout",
     "output_type": "stream",
     "text": [
      "Model ru_bert\n",
      "Avg. Cosine Similarity for embeddings (terms): 1e-04\n",
      "Avg. Cosine Similarity for embeddings (not terms): 1e-04\n",
      "Avg. Cosine Similarity for all embeddings: 1e-04\n",
      "Avg. Cosine Similarity for sentences: 0.0011\n",
      "Avg. Euclidean Distance for embeddings (terms): 39.0755\n",
      "Avg. Euclidean Distance for embeddings (not terms): 39.0879\n",
      "Avg. Euclidean Distance for all embeddings: 39.0857\n",
      "Avg. Euclidean Distance for sentences: 38.6648\n"
     ]
    }
   ],
   "source": [
    "compute_all_metrics('ru_bert', do_standardize=True)"
   ]
  },
  {
   "cell_type": "code",
   "execution_count": 11,
   "metadata": {},
   "outputs": [
    {
     "name": "stdout",
     "output_type": "stream",
     "text": [
      "Model en_gpt\n",
      "Avg. Cosine Similarity for embeddings (terms): 0.9535\n",
      "Avg. Cosine Similarity for embeddings (not terms): 0.9605\n",
      "Avg. Cosine Similarity for all embeddings: 0.9545\n",
      "Avg. Cosine Similarity for sentences: 0.9977\n",
      "Avg. Euclidean Distance for embeddings (terms): 82.6051\n",
      "Avg. Euclidean Distance for embeddings (not terms): 73.1453\n",
      "Avg. Euclidean Distance for all embeddings: 78.9658\n",
      "Avg. Euclidean Distance for sentences: 24.2101\n"
     ]
    }
   ],
   "source": [
    "compute_all_metrics('en_gpt', do_standardize=False)"
   ]
  },
  {
   "cell_type": "code",
   "execution_count": 6,
   "metadata": {},
   "outputs": [
    {
     "name": "stdout",
     "output_type": "stream",
     "text": [
      "Number of embeddings: 441859\n",
      "Embedding dimensionality: 768\n",
      "Mean magnitude: 248.7540\n",
      "Standard deviation of magnitudes: 52.3736\n",
      "Minimum magnitude: 33.9876\n",
      "Maximum magnitude: 440.1469\n"
     ]
    }
   ],
   "source": [
    "analyze_embedding_magnitudes(torch.load(config['en_gpt'])['features'])"
   ]
  },
  {
   "cell_type": "code",
   "execution_count": 12,
   "metadata": {},
   "outputs": [
    {
     "name": "stdout",
     "output_type": "stream",
     "text": [
      "Model en_gpt\n",
      "Avg. Cosine Similarity for embeddings (terms): 0.0003\n",
      "Avg. Cosine Similarity for embeddings (not terms): 1e-04\n",
      "Avg. Cosine Similarity for all embeddings: 1e-04\n",
      "Avg. Cosine Similarity for sentences: -0.0003\n",
      "Avg. Euclidean Distance for embeddings (terms): 38.8804\n",
      "Avg. Euclidean Distance for embeddings (not terms): 38.959\n",
      "Avg. Euclidean Distance for all embeddings: 38.9419\n",
      "Avg. Euclidean Distance for sentences: 38.9428\n"
     ]
    }
   ],
   "source": [
    "compute_all_metrics('en_gpt', do_standardize=True)"
   ]
  },
  {
   "cell_type": "code",
   "execution_count": 13,
   "metadata": {},
   "outputs": [
    {
     "name": "stdout",
     "output_type": "stream",
     "text": [
      "Model ru_gpt\n",
      "Avg. Cosine Similarity for embeddings (terms): 0.2805\n",
      "Avg. Cosine Similarity for embeddings (not terms): 0.2185\n",
      "Avg. Cosine Similarity for all embeddings: 0.2259\n",
      "Avg. Cosine Similarity for sentences: 0.625\n",
      "Avg. Euclidean Distance for embeddings (terms): 45.9859\n",
      "Avg. Euclidean Distance for embeddings (not terms): 47.9673\n",
      "Avg. Euclidean Distance for all embeddings: 47.7654\n",
      "Avg. Euclidean Distance for sentences: 20.8832\n"
     ]
    }
   ],
   "source": [
    "compute_all_metrics('ru_gpt', do_standardize=False)"
   ]
  },
  {
   "cell_type": "code",
   "execution_count": 14,
   "metadata": {},
   "outputs": [
    {
     "name": "stdout",
     "output_type": "stream",
     "text": [
      "Model ru_gpt\n",
      "Avg. Cosine Similarity for embeddings (terms): 0.0009\n",
      "Avg. Cosine Similarity for embeddings (not terms): 0.0005\n",
      "Avg. Cosine Similarity for all embeddings: 0.0005\n",
      "Avg. Cosine Similarity for sentences: -1e-04\n",
      "Avg. Euclidean Distance for embeddings (terms): 38.7132\n",
      "Avg. Euclidean Distance for embeddings (not terms): 38.8375\n",
      "Avg. Euclidean Distance for all embeddings: 38.8153\n",
      "Avg. Euclidean Distance for sentences: 38.8606\n"
     ]
    }
   ],
   "source": [
    "compute_all_metrics('ru_gpt', do_standardize=True)"
   ]
  },
  {
   "cell_type": "code",
   "execution_count": 3,
   "metadata": {},
   "outputs": [],
   "source": [
    "def compute_themes_metrics(model, do_standardize=True, language='en'):\n",
    "    contextualized_sentence_embeddings, labels = load_data(torch.load(config[model]), data_type= 'sentence', language=language)\n",
    "    contextualized_sentence_embeddings = np.array(contextualized_sentence_embeddings)\n",
    "    if do_standardize is True: # subtract the mean vector and divide each dimension by standard deviation\n",
    "        contextualized_sentence_embeddings = standardize(contextualized_sentence_embeddings)\n",
    "\n",
    "    embeddings_by_label = {label: [] for label in set(labels)}\n",
    "    for embedding, label in zip(contextualized_sentence_embeddings, labels):\n",
    "        embeddings_by_label[label].append(embedding)\n",
    "\n",
    "    same_label_metrics = {label: compute_metrics(np.array(embeddings), do_standardize=False) for label, embeddings in embeddings_by_label.items()}\n",
    "    diff_label_metrics = []\n",
    "    for label_1, embeddings_1 in embeddings_by_label.items():\n",
    "        for label_2, embeddings_2 in embeddings_by_label.items():\n",
    "            if label_1 != label_2:\n",
    "                avg_cosine_sim, avg_euclidean_dist = compute_metrics(np.vstack((embeddings_1, embeddings_2)), do_standardize=False)\n",
    "                diff_label_metrics.append((label_1, label_2, avg_cosine_sim, avg_euclidean_dist))\n",
    "\n",
    "    overall_avg_cosine_sim = np.mean([metrics[2] for metrics in diff_label_metrics])\n",
    "    overall_avg_euclidean_dist = np.mean([metrics[3] for metrics in diff_label_metrics])\n",
    "    print(\"Model\", model)\n",
    "    print(\"Same Label Metrics:\")\n",
    "    same_cosine = []\n",
    "    same_euclidian = []\n",
    "    for label, metrics in same_label_metrics.items():\n",
    "        print(f\"Label {label}: Cosine Sim {metrics[0]:.4f}, Euclidean Dist {metrics[1]:.2f}\")\n",
    "        same_cosine.append(metrics[0])\n",
    "        same_euclidian.append(metrics[1])\n",
    "\n",
    "    print(\"Overall Avg Same Label Cosine:\", round(np.mean(same_cosine), 4))\n",
    "    print(\"Overall Avg Same Label Euclidean:\", round(np.mean(same_euclidian), 4))\n",
    "\n",
    "    print(\"\\nDifferent Label Metrics (Overall Average):\")\n",
    "    print(f\"Overall Avg Cosine Sim: {overall_avg_cosine_sim:.4f}\")\n",
    "    print(f\"Overall Avg Euclidean Dist: {overall_avg_euclidean_dist:.2f}\")"
   ]
  },
  {
   "cell_type": "code",
   "execution_count": 4,
   "metadata": {},
   "outputs": [
    {
     "name": "stdout",
     "output_type": "stream",
     "text": [
      "Model en_multi_bert\n",
      "Same Label Metrics:\n",
      "Label biology: Cosine Sim 0.8505, Euclidean Dist 4.11\n",
      "Label mathematics: Cosine Sim 0.8558, Euclidean Dist 4.14\n",
      "Label engineering: Cosine Sim 0.8580, Euclidean Dist 4.00\n",
      "Label chemistry: Cosine Sim 0.8698, Euclidean Dist 3.79\n",
      "Label materials science: Cosine Sim 0.8790, Euclidean Dist 3.64\n",
      "Label computer science: Cosine Sim 0.8587, Euclidean Dist 4.01\n",
      "Label physics: Cosine Sim 0.8555, Euclidean Dist 4.04\n",
      "Label psychology: Cosine Sim 0.8474, Euclidean Dist 4.16\n",
      "Label economics: Cosine Sim 0.8423, Euclidean Dist 4.28\n",
      "Label medicine: Cosine Sim 0.8538, Euclidean Dist 4.09\n",
      "Overall Avg Same Label Cosine: 0.8571\n",
      "Overall Avg Same Label Euclidean: 4.0263\n",
      "\n",
      "Different Label Metrics (Overall Average):\n",
      "Overall Avg Cosine Sim: 0.8430\n",
      "Overall Avg Euclidean Dist: 4.22\n"
     ]
    }
   ],
   "source": [
    "compute_themes_metrics('en_multi_bert', do_standardize=False)"
   ]
  },
  {
   "cell_type": "code",
   "execution_count": 5,
   "metadata": {},
   "outputs": [
    {
     "name": "stdout",
     "output_type": "stream",
     "text": [
      "Model en_multi_bert\n",
      "Same Label Metrics:\n",
      "Label biology: Cosine Sim 0.1100, Euclidean Dist 36.25\n",
      "Label mathematics: Cosine Sim 0.2554, Euclidean Dist 36.31\n",
      "Label engineering: Cosine Sim 0.0838, Euclidean Dist 35.36\n",
      "Label chemistry: Cosine Sim 0.2263, Euclidean Dist 33.44\n",
      "Label materials science: Cosine Sim 0.1693, Euclidean Dist 32.21\n",
      "Label computer science: Cosine Sim 0.1283, Euclidean Dist 35.53\n",
      "Label physics: Cosine Sim 0.1183, Euclidean Dist 35.62\n",
      "Label psychology: Cosine Sim 0.1218, Euclidean Dist 36.72\n",
      "Label economics: Cosine Sim 0.1621, Euclidean Dist 37.99\n",
      "Label medicine: Cosine Sim 0.1414, Euclidean Dist 36.06\n",
      "Overall Avg Same Label Cosine: 0.1517\n",
      "Overall Avg Same Label Euclidean: 35.551\n",
      "\n",
      "Different Label Metrics (Overall Average):\n",
      "Overall Avg Cosine Sim: 0.0738\n",
      "Overall Avg Euclidean Dist: 37.18\n"
     ]
    }
   ],
   "source": [
    "compute_themes_metrics('en_multi_bert', do_standardize=True)"
   ]
  },
  {
   "cell_type": "code",
   "execution_count": 6,
   "metadata": {},
   "outputs": [
    {
     "name": "stdout",
     "output_type": "stream",
     "text": [
      "Model en_bert\n",
      "Same Label Metrics:\n",
      "Label biology: Cosine Sim 0.8277, Euclidean Dist 4.89\n",
      "Label mathematics: Cosine Sim 0.8190, Euclidean Dist 5.34\n",
      "Label engineering: Cosine Sim 0.8237, Euclidean Dist 5.10\n",
      "Label chemistry: Cosine Sim 0.8419, Euclidean Dist 4.70\n",
      "Label materials science: Cosine Sim 0.8606, Euclidean Dist 4.46\n",
      "Label computer science: Cosine Sim 0.8265, Euclidean Dist 5.00\n",
      "Label physics: Cosine Sim 0.8223, Euclidean Dist 5.12\n",
      "Label psychology: Cosine Sim 0.8227, Euclidean Dist 5.01\n",
      "Label economics: Cosine Sim 0.8045, Euclidean Dist 5.34\n",
      "Label medicine: Cosine Sim 0.8244, Euclidean Dist 4.92\n",
      "Overall Avg Same Label Cosine: 0.8273\n",
      "Overall Avg Same Label Euclidean: 4.987\n",
      "\n",
      "Different Label Metrics (Overall Average):\n",
      "Overall Avg Cosine Sim: 0.8047\n",
      "Overall Avg Euclidean Dist: 5.30\n"
     ]
    }
   ],
   "source": [
    "compute_themes_metrics('en_bert', do_standardize=False)"
   ]
  },
  {
   "cell_type": "code",
   "execution_count": 7,
   "metadata": {},
   "outputs": [
    {
     "name": "stdout",
     "output_type": "stream",
     "text": [
      "Model en_bert\n",
      "Same Label Metrics:\n",
      "Label biology: Cosine Sim 0.1582, Euclidean Dist 33.96\n",
      "Label mathematics: Cosine Sim 0.3073, Euclidean Dist 37.04\n",
      "Label engineering: Cosine Sim 0.0968, Euclidean Dist 35.63\n",
      "Label chemistry: Cosine Sim 0.2766, Euclidean Dist 32.60\n",
      "Label materials science: Cosine Sim 0.2184, Euclidean Dist 31.00\n",
      "Label computer science: Cosine Sim 0.1403, Euclidean Dist 35.04\n",
      "Label physics: Cosine Sim 0.1464, Euclidean Dist 35.57\n",
      "Label psychology: Cosine Sim 0.1686, Euclidean Dist 35.10\n",
      "Label economics: Cosine Sim 0.1881, Euclidean Dist 37.74\n",
      "Label medicine: Cosine Sim 0.1660, Euclidean Dist 34.32\n",
      "Overall Avg Same Label Cosine: 0.1867\n",
      "Overall Avg Same Label Euclidean: 34.7985\n",
      "\n",
      "Different Label Metrics (Overall Average):\n",
      "Overall Avg Cosine Sim: 0.0895\n",
      "Overall Avg Euclidean Dist: 36.77\n"
     ]
    }
   ],
   "source": [
    "compute_themes_metrics('en_bert', do_standardize=True)"
   ]
  },
  {
   "cell_type": "code",
   "execution_count": 8,
   "metadata": {},
   "outputs": [
    {
     "name": "stdout",
     "output_type": "stream",
     "text": [
      "Model en_gpt\n",
      "Same Label Metrics:\n",
      "Label biology: Cosine Sim 0.9982, Euclidean Dist 22.50\n",
      "Label mathematics: Cosine Sim 0.9985, Euclidean Dist 20.40\n",
      "Label engineering: Cosine Sim 0.9977, Euclidean Dist 20.90\n",
      "Label chemistry: Cosine Sim 0.9982, Euclidean Dist 19.48\n",
      "Label materials science: Cosine Sim 0.9986, Euclidean Dist 18.38\n",
      "Label computer science: Cosine Sim 0.9985, Euclidean Dist 20.34\n",
      "Label physics: Cosine Sim 0.9984, Euclidean Dist 19.27\n",
      "Label psychology: Cosine Sim 0.9981, Euclidean Dist 25.02\n",
      "Label economics: Cosine Sim 0.9981, Euclidean Dist 22.42\n",
      "Label medicine: Cosine Sim 0.9977, Euclidean Dist 25.58\n",
      "Overall Avg Same Label Cosine: 0.9982\n",
      "Overall Avg Same Label Euclidean: 21.4289\n",
      "\n",
      "Different Label Metrics (Overall Average):\n",
      "Overall Avg Cosine Sim: 0.9979\n",
      "Overall Avg Euclidean Dist: 23.01\n"
     ]
    }
   ],
   "source": [
    "compute_themes_metrics('en_gpt', do_standardize=False)"
   ]
  },
  {
   "cell_type": "code",
   "execution_count": 9,
   "metadata": {},
   "outputs": [
    {
     "name": "stdout",
     "output_type": "stream",
     "text": [
      "Model en_gpt\n",
      "Same Label Metrics:\n",
      "Label biology: Cosine Sim 0.1339, Euclidean Dist 36.09\n",
      "Label mathematics: Cosine Sim 0.2530, Euclidean Dist 33.05\n",
      "Label engineering: Cosine Sim 0.0916, Euclidean Dist 36.62\n",
      "Label chemistry: Cosine Sim 0.3058, Euclidean Dist 31.16\n",
      "Label materials science: Cosine Sim 0.2412, Euclidean Dist 31.69\n",
      "Label computer science: Cosine Sim 0.1399, Euclidean Dist 36.41\n",
      "Label physics: Cosine Sim 0.1536, Euclidean Dist 34.73\n",
      "Label psychology: Cosine Sim 0.1639, Euclidean Dist 36.83\n",
      "Label economics: Cosine Sim 0.2069, Euclidean Dist 36.38\n",
      "Label medicine: Cosine Sim 0.1487, Euclidean Dist 36.51\n",
      "Overall Avg Same Label Cosine: 0.1839\n",
      "Overall Avg Same Label Euclidean: 34.9489\n",
      "\n",
      "Different Label Metrics (Overall Average):\n",
      "Overall Avg Cosine Sim: 0.0873\n",
      "Overall Avg Euclidean Dist: 37.03\n"
     ]
    }
   ],
   "source": [
    "compute_themes_metrics('en_gpt', do_standardize=True)"
   ]
  },
  {
   "cell_type": "code",
   "execution_count": 10,
   "metadata": {},
   "outputs": [
    {
     "name": "stdout",
     "output_type": "stream",
     "text": [
      "Model ru_multi_bert\n",
      "Same Label Metrics:\n",
      "Label biology: Cosine Sim 0.8698, Euclidean Dist 3.98\n",
      "Label mathematics: Cosine Sim 0.8590, Euclidean Dist 4.32\n",
      "Label chemistry: Cosine Sim 0.8715, Euclidean Dist 4.05\n",
      "Label politics: Cosine Sim 0.8600, Euclidean Dist 4.35\n",
      "Label humanities: Cosine Sim 0.8719, Euclidean Dist 4.12\n",
      "Label sociology: Cosine Sim 0.8600, Euclidean Dist 4.30\n",
      "Label physics: Cosine Sim 0.8731, Euclidean Dist 4.08\n",
      "Label psychology: Cosine Sim 0.8549, Euclidean Dist 4.32\n",
      "Label economics: Cosine Sim 0.8570, Euclidean Dist 4.33\n",
      "Label medicine: Cosine Sim 0.8940, Euclidean Dist 3.61\n",
      "Overall Avg Same Label Cosine: 0.8671\n",
      "Overall Avg Same Label Euclidean: 4.1474\n",
      "\n",
      "Different Label Metrics (Overall Average):\n",
      "Overall Avg Cosine Sim: 0.8617\n",
      "Overall Avg Euclidean Dist: 4.24\n"
     ]
    }
   ],
   "source": [
    "compute_themes_metrics('ru_multi_bert', do_standardize=False, language='ru')"
   ]
  },
  {
   "cell_type": "code",
   "execution_count": 11,
   "metadata": {},
   "outputs": [
    {
     "name": "stdout",
     "output_type": "stream",
     "text": [
      "Model ru_multi_bert\n",
      "Same Label Metrics:\n",
      "Label biology: Cosine Sim 0.1355, Euclidean Dist 35.94\n",
      "Label mathematics: Cosine Sim 0.0631, Euclidean Dist 38.87\n",
      "Label chemistry: Cosine Sim 0.1586, Euclidean Dist 36.50\n",
      "Label politics: Cosine Sim 0.0877, Euclidean Dist 39.21\n",
      "Label humanities: Cosine Sim 0.0492, Euclidean Dist 37.22\n",
      "Label sociology: Cosine Sim 0.0600, Euclidean Dist 38.70\n",
      "Label physics: Cosine Sim 0.0313, Euclidean Dist 36.73\n",
      "Label psychology: Cosine Sim 0.0849, Euclidean Dist 38.89\n",
      "Label economics: Cosine Sim 0.1043, Euclidean Dist 39.02\n",
      "Label medicine: Cosine Sim 0.2293, Euclidean Dist 32.57\n",
      "Overall Avg Same Label Cosine: 0.1004\n",
      "Overall Avg Same Label Euclidean: 37.3639\n",
      "\n",
      "Different Label Metrics (Overall Average):\n",
      "Overall Avg Cosine Sim: 0.0486\n",
      "Overall Avg Euclidean Dist: 38.12\n"
     ]
    }
   ],
   "source": [
    "compute_themes_metrics('ru_multi_bert', do_standardize=True, language='ru')"
   ]
  },
  {
   "cell_type": "code",
   "execution_count": 24,
   "metadata": {},
   "outputs": [
    {
     "name": "stdout",
     "output_type": "stream",
     "text": [
      "Model ru_bert\n",
      "Same Label Metrics:\n",
      "Label politics: Cosine Sim 0.5717, Euclidean Dist 10.55\n",
      "Label chemistry: Cosine Sim 0.5799, Euclidean Dist 10.58\n",
      "Label economics: Cosine Sim 0.5793, Euclidean Dist 10.51\n",
      "Label sociology: Cosine Sim 0.5861, Euclidean Dist 10.40\n",
      "Label computer science: Cosine Sim 0.5267, Euclidean Dist 10.79\n",
      "Label psychology: Cosine Sim 0.5771, Euclidean Dist 10.31\n",
      "Label philosophy: Cosine Sim 0.5678, Euclidean Dist 9.97\n",
      "Label mathematics: Cosine Sim 0.5593, Euclidean Dist 10.95\n",
      "Label humanities: Cosine Sim 0.6010, Euclidean Dist 10.19\n",
      "Label medicine: Cosine Sim 0.6217, Euclidean Dist 9.45\n",
      "Label biology: Cosine Sim 0.5859, Euclidean Dist 9.93\n",
      "Label physics: Cosine Sim 0.5617, Euclidean Dist 10.56\n",
      "Label political science: Cosine Sim 0.5683, Euclidean Dist 10.66\n",
      "Label engineering: Cosine Sim 0.5417, Euclidean Dist 10.80\n",
      "Label education: Cosine Sim 0.5946, Euclidean Dist 10.56\n",
      "Overall Avg Same Label Cosine: 0.5749\n",
      "Overall Avg Same Label Euclidean: 10.4148\n",
      "\n",
      "Different Label Metrics (Overall Average):\n",
      "Overall Avg Cosine Sim: 0.5601\n",
      "Overall Avg Euclidean Dist: 10.59\n"
     ]
    }
   ],
   "source": [
    "compute_themes_metrics('ru_bert', do_standardize=False, language='ru')"
   ]
  },
  {
   "cell_type": "code",
   "execution_count": 12,
   "metadata": {},
   "outputs": [
    {
     "name": "stdout",
     "output_type": "stream",
     "text": [
      "Model ru_bert\n",
      "Same Label Metrics:\n",
      "Label biology: Cosine Sim 0.1187, Euclidean Dist 35.66\n",
      "Label mathematics: Cosine Sim 0.0531, Euclidean Dist 39.54\n",
      "Label chemistry: Cosine Sim 0.1325, Euclidean Dist 38.24\n",
      "Label politics: Cosine Sim 0.0701, Euclidean Dist 37.81\n",
      "Label humanities: Cosine Sim 0.0472, Euclidean Dist 36.83\n",
      "Label sociology: Cosine Sim 0.0522, Euclidean Dist 37.39\n",
      "Label physics: Cosine Sim 0.0268, Euclidean Dist 38.07\n",
      "Label psychology: Cosine Sim 0.0854, Euclidean Dist 36.99\n",
      "Label economics: Cosine Sim 0.1125, Euclidean Dist 37.73\n",
      "Label medicine: Cosine Sim 0.1859, Euclidean Dist 33.89\n",
      "Overall Avg Same Label Cosine: 0.0884\n",
      "Overall Avg Same Label Euclidean: 37.2153\n",
      "\n",
      "Different Label Metrics (Overall Average):\n",
      "Overall Avg Cosine Sim: 0.0442\n",
      "Overall Avg Euclidean Dist: 38.02\n"
     ]
    }
   ],
   "source": [
    "compute_themes_metrics('ru_bert', do_standardize=True, language='ru')"
   ]
  },
  {
   "cell_type": "code",
   "execution_count": 13,
   "metadata": {},
   "outputs": [
    {
     "name": "stdout",
     "output_type": "stream",
     "text": [
      "Model ru_gpt\n",
      "Same Label Metrics:\n",
      "Label biology: Cosine Sim 0.6724, Euclidean Dist 18.53\n",
      "Label mathematics: Cosine Sim 0.6855, Euclidean Dist 19.35\n",
      "Label chemistry: Cosine Sim 0.7174, Euclidean Dist 17.79\n",
      "Label politics: Cosine Sim 0.6640, Euclidean Dist 20.26\n",
      "Label humanities: Cosine Sim 0.7328, Euclidean Dist 18.57\n",
      "Label sociology: Cosine Sim 0.6833, Euclidean Dist 19.36\n",
      "Label physics: Cosine Sim 0.6961, Euclidean Dist 19.31\n",
      "Label psychology: Cosine Sim 0.6047, Euclidean Dist 20.61\n",
      "Label economics: Cosine Sim 0.6525, Euclidean Dist 19.83\n",
      "Label medicine: Cosine Sim 0.6924, Euclidean Dist 18.13\n",
      "Overall Avg Same Label Cosine: 0.6801\n",
      "Overall Avg Same Label Euclidean: 19.1751\n",
      "\n",
      "Different Label Metrics (Overall Average):\n",
      "Overall Avg Cosine Sim: 0.6594\n",
      "Overall Avg Euclidean Dist: 19.90\n"
     ]
    }
   ],
   "source": [
    "compute_themes_metrics('ru_gpt', do_standardize=False, language='ru')"
   ]
  },
  {
   "cell_type": "code",
   "execution_count": 14,
   "metadata": {},
   "outputs": [
    {
     "name": "stdout",
     "output_type": "stream",
     "text": [
      "Model ru_gpt\n",
      "Same Label Metrics:\n",
      "Label biology: Cosine Sim 0.1977, Euclidean Dist 34.95\n",
      "Label mathematics: Cosine Sim 0.0748, Euclidean Dist 37.19\n",
      "Label chemistry: Cosine Sim 0.2233, Euclidean Dist 35.48\n",
      "Label politics: Cosine Sim 0.1154, Euclidean Dist 36.47\n",
      "Label humanities: Cosine Sim 0.0619, Euclidean Dist 37.12\n",
      "Label sociology: Cosine Sim 0.0904, Euclidean Dist 35.86\n",
      "Label physics: Cosine Sim 0.0345, Euclidean Dist 38.39\n",
      "Label psychology: Cosine Sim 0.1141, Euclidean Dist 36.88\n",
      "Label economics: Cosine Sim 0.1521, Euclidean Dist 35.01\n",
      "Label medicine: Cosine Sim 0.2719, Euclidean Dist 33.59\n",
      "Overall Avg Same Label Cosine: 0.1336\n",
      "Overall Avg Same Label Euclidean: 36.0939\n",
      "\n",
      "Different Label Metrics (Overall Average):\n",
      "Overall Avg Cosine Sim: 0.0626\n",
      "Overall Avg Euclidean Dist: 37.57\n"
     ]
    }
   ],
   "source": [
    "compute_themes_metrics('ru_gpt', do_standardize=True, language='ru')"
   ]
  }
 ],
 "metadata": {
  "kernelspec": {
   "display_name": "py39",
   "language": "python",
   "name": "python3"
  },
  "language_info": {
   "codemirror_mode": {
    "name": "ipython",
    "version": 3
   },
   "file_extension": ".py",
   "mimetype": "text/x-python",
   "name": "python",
   "nbconvert_exporter": "python",
   "pygments_lexer": "ipython3",
   "version": "3.9.19"
  }
 },
 "nbformat": 4,
 "nbformat_minor": 2
}

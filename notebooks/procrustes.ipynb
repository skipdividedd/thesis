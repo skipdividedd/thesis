{
 "cells": [
  {
   "cell_type": "code",
   "execution_count": 26,
   "metadata": {},
   "outputs": [],
   "source": [
    "import numpy as np\n",
    "import torch\n",
    "from sklearn.decomposition import PCA\n",
    "from scipy.spatial import procrustes\n",
    "from utils import path_config as config\n",
    "from tqdm import tqdm\n",
    "\n",
    "def standardize(embeddings):\n",
    "    mean = np.mean(embeddings, axis=0)\n",
    "    std_dev = np.std(embeddings, axis=0)\n",
    "    standardized_embeddings = (embeddings - mean) / std_dev\n",
    "    return standardized_embeddings\n",
    "\n",
    "def reduce_dimensionality(embeddings, n_components=200):\n",
    "    pca = PCA(n_components=n_components, random_state=100)\n",
    "    reduced_embeddings = pca.fit_transform(embeddings)\n",
    "    explained_variance = pca.explained_variance_ratio_\n",
    "    cumulative_variance = np.cumsum(explained_variance)\n",
    "    print(f\"Cumulative explained variance: {cumulative_variance[-1]:.3f}\")\n",
    "    return reduced_embeddings\n",
    "\n",
    "def apply_procrustes(X, Y):\n",
    "    mtx1, mtx2, disparity = procrustes(X, Y)\n",
    "    return mtx1, mtx2, disparity\n",
    "\n",
    "def calculate_disparity(model1, model2):\n",
    "    data1 = torch.load(config[model1])\n",
    "    data2 = torch.load(config[model2])\n",
    "    model1_sentence_embeddings = standardize(np.array(data1['mean_embeddings']))\n",
    "    model2_sentence_embeddings = standardize(np.array(data2['mean_embeddings']))\n",
    "\n",
    "    # Reduce dimensionality for comparison\n",
    "    model1_sentence_reduced = reduce_dimensionality(model1_sentence_embeddings)\n",
    "    model2_sentence_reduced = reduce_dimensionality(model2_sentence_embeddings)\n",
    "\n",
    "    # Align embeddings using Procrustes analysis\n",
    "    x, y, disparity = apply_procrustes(model1_sentence_reduced, model2_sentence_reduced)\n",
    "\n",
    "    # Permutation test\n",
    "    disparities = []\n",
    "    num_permutations = 5000\n",
    "    for _ in tqdm(range(num_permutations)):\n",
    "        # Shuffle the multilingual embeddings to simulate null hypothesis\n",
    "        shuffled_indices = np.random.permutation(len(model2_sentence_reduced))\n",
    "        _, _, perm_disparity = apply_procrustes(model1_sentence_reduced, model2_sentence_reduced[shuffled_indices])\n",
    "        disparities.append(perm_disparity)\n",
    "\n",
    "    p_value = np.sum(disparities <= disparity) / (num_permutations + 1)\n",
    "    print(f\"Disparity between {model1} and {model2} embeddings:\", round(disparity, 3))\n",
    "    print(f\"P-value (permutation test):\", round(p_value, 3))"
   ]
  },
  {
   "cell_type": "code",
   "execution_count": 27,
   "metadata": {},
   "outputs": [
    {
     "name": "stdout",
     "output_type": "stream",
     "text": [
      "Cumulative explained variance: 0.934\n",
      "Cumulative explained variance: 0.922\n"
     ]
    },
    {
     "name": "stderr",
     "output_type": "stream",
     "text": [
      "100%|██████████| 5000/5000 [02:12<00:00, 37.80it/s]\n"
     ]
    },
    {
     "name": "stdout",
     "output_type": "stream",
     "text": [
      "Disparity between en_bert and en_multi_bert embeddings: 0.375\n",
      "P-value (permutation test): 0.0\n"
     ]
    }
   ],
   "source": [
    "calculate_disparity('en_bert', 'en_multi_bert')"
   ]
  },
  {
   "cell_type": "code",
   "execution_count": 28,
   "metadata": {},
   "outputs": [
    {
     "name": "stdout",
     "output_type": "stream",
     "text": [
      "Cumulative explained variance: 0.946\n",
      "Cumulative explained variance: 0.913\n"
     ]
    },
    {
     "name": "stderr",
     "output_type": "stream",
     "text": [
      "100%|██████████| 5000/5000 [02:15<00:00, 36.90it/s]\n"
     ]
    },
    {
     "name": "stdout",
     "output_type": "stream",
     "text": [
      "Disparity between ru_bert and ru_multi_bert embeddings: 0.533\n",
      "P-value (permutation test): 0.0\n"
     ]
    }
   ],
   "source": [
    "calculate_disparity('ru_bert', 'ru_multi_bert')"
   ]
  },
  {
   "cell_type": "code",
   "execution_count": 29,
   "metadata": {},
   "outputs": [
    {
     "name": "stdout",
     "output_type": "stream",
     "text": [
      "Cumulative explained variance: 0.946\n",
      "Cumulative explained variance: 0.914\n"
     ]
    },
    {
     "name": "stderr",
     "output_type": "stream",
     "text": [
      "100%|██████████| 5000/5000 [02:17<00:00, 36.27it/s]\n"
     ]
    },
    {
     "name": "stdout",
     "output_type": "stream",
     "text": [
      "Disparity between ru_bert and ru_gpt embeddings: 0.483\n",
      "P-value (permutation test): 0.0\n"
     ]
    }
   ],
   "source": [
    "calculate_disparity('ru_bert', 'ru_gpt')"
   ]
  },
  {
   "cell_type": "code",
   "execution_count": 30,
   "metadata": {},
   "outputs": [
    {
     "name": "stdout",
     "output_type": "stream",
     "text": [
      "Cumulative explained variance: 0.934\n",
      "Cumulative explained variance: 0.901\n"
     ]
    },
    {
     "name": "stderr",
     "output_type": "stream",
     "text": [
      "100%|██████████| 5000/5000 [02:22<00:00, 35.20it/s]\n"
     ]
    },
    {
     "name": "stdout",
     "output_type": "stream",
     "text": [
      "Disparity between en_bert and en_gpt embeddings: 0.395\n",
      "P-value (permutation test): 0.0\n"
     ]
    }
   ],
   "source": [
    "calculate_disparity('en_bert', 'en_gpt')"
   ]
  }
 ],
 "metadata": {
  "kernelspec": {
   "display_name": "py39",
   "language": "python",
   "name": "python3"
  },
  "language_info": {
   "codemirror_mode": {
    "name": "ipython",
    "version": 3
   },
   "file_extension": ".py",
   "mimetype": "text/x-python",
   "name": "python",
   "nbconvert_exporter": "python",
   "pygments_lexer": "ipython3",
   "version": "3.9.19"
  }
 },
 "nbformat": 4,
 "nbformat_minor": 2
}
